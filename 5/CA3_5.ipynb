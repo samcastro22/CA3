{
 "cells": [
  {
   "cell_type": "markdown",
   "metadata": {},
   "source": [
    "# Part 5. Compiling to C "
   ]
  },
  {
   "cell_type": "markdown",
   "metadata": {},
   "source": [
    "16.- Read about the Conway’s Game of Life. Implement all solutions provided on the \n",
    "Cython Material (slides) to obtain the update of the lattice: \n",
    "\n",
    "a. Python \n",
    "\n",
    "b. Cython 1 \n",
    "\n",
    "c. Cython 2 \n",
    "\n",
    "d. Cython 3 \n",
    "\n",
    "e. Cython 4 \n",
    "\n",
    "Explain the improvement on each solution. Reproduce the chart on pp. 33 with the \n",
    "runtime for each solution."
   ]
  },
  {
   "cell_type": "code",
   "execution_count": 1,
   "metadata": {},
   "outputs": [],
   "source": [
    "# Libraries\n",
    "\n",
    "import time\n",
    "import numpy as np\n",
    "import matplotlib.pyplot as plt\n",
    "import timeit\n",
    "\n",
    "\n",
    "# Modules\n",
    "\n",
    "from cython1 import c1_update\n",
    "from cython2 import c2_update\n",
    "from cython3 import c3_update\n",
    "from cython4 import c4_update\n",
    "import python\n",
    "\n",
    "def initialize_lattice_with_cross(box_size):\n",
    "    lattice = [[0 for _ in range(box_size)] for _ in range(box_size)]\n",
    "\n",
    "    # Define the cross in the center\n",
    "    center = box_size // 2\n",
    "    for i in range(box_size):\n",
    "        # Set middle column cells to 1\n",
    "        lattice[i][center] = 1\n",
    "        # Set middle row cells to 1\n",
    "        lattice[center][i] = 1\n",
    "\n",
    "    return lattice\n",
    "\n",
    "# Assuming update and update_rule functions are defined as you provided\n",
    "box_size = 300\n",
    "lattice = initialize_lattice_with_cross(box_size)"
   ]
  },
  {
   "cell_type": "code",
   "execution_count": 2,
   "metadata": {},
   "outputs": [
    {
     "name": "stdout",
     "output_type": "stream",
     "text": [
      "48.6 ms ± 3 ms per loop (mean ± std. dev. of 3 runs, 1 loop each)\n"
     ]
    }
   ],
   "source": [
    "# Time the update function\n",
    "%timeit -n 1 -r 3 python.update(lattice)"
   ]
  },
  {
   "cell_type": "code",
   "execution_count": 3,
   "metadata": {},
   "outputs": [
    {
     "name": "stdout",
     "output_type": "stream",
     "text": [
      "24.8 ms ± 651 µs per loop (mean ± std. dev. of 3 runs, 1 loop each)\n"
     ]
    }
   ],
   "source": [
    "%timeit -n 1 -r 3 c1_update(lattice)"
   ]
  },
  {
   "cell_type": "code",
   "execution_count": 4,
   "metadata": {},
   "outputs": [
    {
     "name": "stdout",
     "output_type": "stream",
     "text": [
      "12.2 ms ± 272 µs per loop (mean ± std. dev. of 3 runs, 1 loop each)\n"
     ]
    }
   ],
   "source": [
    "%timeit -n 1 -r 3 c2_update(lattice)"
   ]
  },
  {
   "cell_type": "code",
   "execution_count": 5,
   "metadata": {},
   "outputs": [
    {
     "name": "stdout",
     "output_type": "stream",
     "text": [
      "9.91 ms ± 659 µs per loop (mean ± std. dev. of 3 runs, 1 loop each)\n"
     ]
    }
   ],
   "source": [
    "%timeit -n 1 -r 3 c3_update(lattice)"
   ]
  },
  {
   "cell_type": "code",
   "execution_count": 6,
   "metadata": {},
   "outputs": [
    {
     "name": "stdout",
     "output_type": "stream",
     "text": [
      "7.83 ms ± 224 µs per loop (mean ± std. dev. of 3 runs, 1 loop each)\n"
     ]
    }
   ],
   "source": [
    "%timeit -n 1 -r 3 c4_update(lattice)"
   ]
  }
 ],
 "metadata": {
  "kernelspec": {
   "display_name": "Python 3",
   "language": "python",
   "name": "python3"
  },
  "language_info": {
   "codemirror_mode": {
    "name": "ipython",
    "version": 3
   },
   "file_extension": ".py",
   "mimetype": "text/x-python",
   "name": "python",
   "nbconvert_exporter": "python",
   "pygments_lexer": "ipython3",
   "version": "3.6.9"
  }
 },
 "nbformat": 4,
 "nbformat_minor": 2
}
