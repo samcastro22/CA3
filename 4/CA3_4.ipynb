{
 "cells": [
  {
   "cell_type": "markdown",
   "metadata": {},
   "source": [
    "# Part 4. Matrix and Vector Computations"
   ]
  },
  {
   "cell_type": "markdown",
   "metadata": {},
   "source": [
    "13. Read about Broadcasting with Arrays on the chapter Computation on Arrays: \n",
    "Broadcasting from Python Data Science Handbook (J. VandePlas, 2016): \n",
    "Link: https://jakevdp.github.io/PythonDataScienceHandbook/02.05-computation\n",
    "on-arrays-broadcasting.html. "
   ]
  },
  {
   "cell_type": "markdown",
   "metadata": {},
   "source": [
    "NumPy offers a range of powerful features designed to enhance computational efficiency when working with arrays. One of the key components facilitating this efficiency is the concept of universal functions, commonly referred to as ufuncs. These ufuncs allow for fast array computations by supporting both unary and binary operations. This includes a variety of mathematical functions such as addition, subtraction, trigonometric calculations, and more. By using ufuncs, NumPy can perform these operations in a vectorized manner, which means it can handle computations on entire arrays at once, bypassing the slower process of looping through each element in Python. This vectorized approach significantly boosts performance, making it a valuable asset for numerical computing tasks.\n",
    "\n",
    "In addition to basic mathematical operations, ufuncs come with specialized features that further enhance their utility. These features include the ability to specify output, perform aggregates, and compute outer products. Such functionalities not only streamline the coding process but also contribute to improved computational efficiency, making NumPy a preferred tool for high-performance computing (HPC) applications.\n",
    "\n",
    "Alongside ufuncs, broadcasting is another standout feature in NumPy that contributes to efficient array operations. Broadcasting allows for vectorized operations to be performed across arrays with different shapes without the need for explicit data replication or reshaping. Instead of requiring arrays to have identical shapes, broadcasting intelligently aligns arrays by extending or stretching them as needed. This simplifies the code and enhances computational and memory efficiency, which is particularly important for HPC tasks. NumPy follows specific rules to handle operations between arrays with mismatched shapes, such as extending dimensions of size one to match corresponding dimensions of the other array. These rules uphold the principles of efficiency by eliminating unnecessary data duplication and promoting optimal computational practices.\n"
   ]
  },
  {
   "cell_type": "markdown",
   "metadata": {},
   "source": [
    "14. Read Rewriting the particle simulator in Numpy on Chapter 2: Fast Array Operations \n",
    "with Numpy and Pandas (pp. 68) from the book G. Lenaro (2017). Python high \n",
    "Performance. Second Edition. UK: Packt Publishing Ltd. Implement the \n",
    "improvements on the particle simulator using NumPy. Show that both \n",
    "implementations scale linearly with particle size, but the runtime in the pure Python \n",
    "version grows much faster than the NumPy version.  "
   ]
  },
  {
   "cell_type": "code",
   "execution_count": 1,
   "metadata": {},
   "outputs": [],
   "source": [
    "import numpy as np\n",
    "from random import uniform\n",
    "from timeit import timeit\n",
    "import numexpr as ne"
   ]
  },
  {
   "cell_type": "code",
   "execution_count": 2,
   "metadata": {},
   "outputs": [
    {
     "name": "stdout",
     "output_type": "stream",
     "text": [
      "Benchmarking with 100000 particles:\n",
      "Pure python:\n",
      "5.061089099999663\n",
      "Numpy:\n",
      "0.41473410000071453\n"
     ]
    }
   ],
   "source": [
    "class Particle:\n",
    "    def __init__(self, x, y, velocidad_angular):\n",
    "        self.x = x\n",
    "        self.y = y\n",
    "        self.velocidad_angular = velocidad_angular\n",
    "\n",
    "class ParticleSimulator:\n",
    "\n",
    "    def __init__(self, particles):\n",
    "        self.particles = particles\n",
    "\n",
    "    def evolve_python(self, dt):\n",
    "        timestep = 0.00001\n",
    "        nsteps = int(dt / timestep)\n",
    "        for i in range(nsteps):\n",
    "            for p in self.particles:\n",
    "                norm = (p.x**2 + p.y**2)**0.5\n",
    "                v_x = (-p.y) / norm\n",
    "                v_y = p.x / norm\n",
    "                d_x = timestep * p.velocidad_angular * v_x\n",
    "                d_y = timestep * p.velocidad_angular * v_y\n",
    "                p.x += d_x\n",
    "                p.y += d_y\n",
    "\n",
    "    def evolve_numpy(self, dt):\n",
    "        timestep = 0.00001\n",
    "        nsteps = int(dt / timestep)\n",
    "        r_i = np.array([[p.x, p.y] for p in self.particles])\n",
    "        velocidad_angular_i = np.array([p.velocidad_angular for p in self.particles])\n",
    "        for i in range(nsteps):\n",
    "            norm_i = np.sqrt((r_i ** 2).sum(axis=1))\n",
    "            v_i = r_i[:, [1, 0]] * np.array([-1, 1]) / norm_i[:, np.newaxis]\n",
    "            d_i = timestep * velocidad_angular_i[:, np.newaxis] * v_i\n",
    "            r_i += d_i\n",
    "        for i, p in enumerate(self.particles):\n",
    "            p.x, p.y = r_i[i]\n",
    "\n",
    " \n",
    "def benchmark(npart=1000, method='python'):\n",
    "    particles = [Particle(uniform(-1.0, 1.0), uniform(-1.0, 1.0), uniform(-1.0, 1.0)) for _ in range(npart)]\n",
    "    simulator = ParticleSimulator(particles)\n",
    "    if method == 'python':\n",
    "        simulator.evolve_python(0.1)\n",
    "    elif method == 'numpy':\n",
    "        simulator.evolve_numpy(0.1)\n",
    "\n",
    " \n",
    "# Example of benchmarking\n",
    "if __name__ == \"__main__\":\n",
    "\n",
    "    print(\"Benchmarking with 100000 particles:\")\n",
    "    print(\"Pure python:\")\n",
    "    print(timeit(\"benchmark(1000, 'python')\", globals=globals(), number=1))\n",
    "    print(\"Numpy:\")\n",
    "    print(timeit(\"benchmark(1000, 'numpy')\", globals=globals(), number=1))\n",
    "                "
   ]
  },
  {
   "cell_type": "markdown",
   "metadata": {},
   "source": [
    "15. Explain how to optain the optimal performance with numexpr. Read the section \n",
    "Reaching optimal performance with numexpr, pp. 72 from the previous reference. \n",
    "Implement it and measure the execution time."
   ]
  },
  {
   "cell_type": "code",
   "execution_count": 3,
   "metadata": {},
   "outputs": [],
   "source": [
    "a = np.arange(1e6)\n",
    "b = np.arange(1e6)"
   ]
  },
  {
   "cell_type": "code",
   "execution_count": 4,
   "metadata": {},
   "outputs": [
    {
     "name": "stdout",
     "output_type": "stream",
     "text": [
      "6.41 ms ± 246 µs per loop (mean ± std. dev. of 10 runs, 200 loops each)\n"
     ]
    }
   ],
   "source": [
    "%%timeit -n200 -r10\n",
    "c = a**2 + b**2 "
   ]
  },
  {
   "cell_type": "code",
   "execution_count": 5,
   "metadata": {},
   "outputs": [
    {
     "name": "stdout",
     "output_type": "stream",
     "text": [
      "3.85 ms ± 196 µs per loop (mean ± std. dev. of 10 runs, 200 loops each)\n"
     ]
    }
   ],
   "source": [
    "%%timeit -n200 -r10\n",
    "c = ne.evaluate(\"a**2 + b**2\")"
   ]
  }
 ],
 "metadata": {
  "kernelspec": {
   "display_name": "Python 3",
   "language": "python",
   "name": "python3"
  },
  "language_info": {
   "codemirror_mode": {
    "name": "ipython",
    "version": 3
   },
   "file_extension": ".py",
   "mimetype": "text/x-python",
   "name": "python",
   "nbconvert_exporter": "python",
   "pygments_lexer": "ipython3",
   "version": "3.6.9"
  }
 },
 "nbformat": 4,
 "nbformat_minor": 2
}
