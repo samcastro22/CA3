{
 "cells": [
  {
   "cell_type": "markdown",
   "metadata": {},
   "source": [
    "# Part 1. Benchmarking and Profiling "
   ]
  },
  {
   "cell_type": "markdown",
   "metadata": {},
   "source": [
    "1.-  Read the sections “Introducing the Julia Set” and “Calculating the Full Julia Set” on \n",
    "Chapter 2. Profiling to Find Bottlenecks from the book: M. Gorelick & I. Ozsvald \n",
    "(2020). High Performance Python. Practical Performant Programming for Humans. \n",
    "Second Edition. United States of America: O’Reilly Media, Inc. Implement the \n",
    "chapter functions (Example 2-1, 2-2, 2-3 and 2-4) on Python in order to calculate the \n",
    "Julia Set. Make the representation for the false gray and pure gray scale. "
   ]
  },
  {
   "cell_type": "code",
   "execution_count": 6,
   "metadata": {},
   "outputs": [],
   "source": [
    "#2-1\n",
    "import time\n",
    " # area of complex space to investigate\n",
    "x1, x2, y1, y2 = -1.8, 1.8, -1.8, 1.8\n",
    "c_real, c_imag = -0.62772, -.42193"
   ]
  },
  {
   "cell_type": "code",
   "execution_count": 7,
   "metadata": {},
   "outputs": [],
   "source": [
    "#2-2\n",
    "def calc_pure_python(desired_width, max_iterations):\n",
    "    x_step = (float(x2 - x1) / float(desired_width))\n",
    "    y_step = (float(y1 - y2) / float(desired_width))\n",
    "    x = []\n",
    "    y = []\n",
    "    ycoord = y2\n",
    "    while ycoord > y1:\n",
    "        y.append(ycoord)\n",
    "        ycoord += y_step\n",
    "        xcoord = x1\n",
    "    while xcoord < x2:\n",
    "        x.append(xcoord)\n",
    "        xcoord += x_step\n",
    "    #Built a list of coordinates and the initla condition for each cell \n",
    "    #The intial condition is is a constant tha can be removed\n",
    "    zs = []    \n",
    "    cs = []\n",
    "    for ycoord in y:\n",
    "        for xcoord in x:\n",
    "            zs.append(complex(xcoord, ycoord))\n",
    "            cs.append(complex(c_real, c_imag))\n",
    "\n",
    "    print(\"Length of x:\", len(x))\n",
    "    print(\"Total elements:\", len(zs))\n",
    "    start_time = time.time()\n",
    "    output = calculate_z_serial_purepython(max_iterations, zs, cs)\n",
    "    end_time = time.time()\n",
    "    secs = end_time - start_time\n",
    "    print(calculate_z_serial_purepython.__name__ + \"took\", secs, \"seconds\")\n",
    "    assert sum(output) == 33219980"
   ]
  },
  {
   "cell_type": "code",
   "execution_count": 8,
   "metadata": {},
   "outputs": [],
   "source": [
    "#2-3\n",
    "def calculate_z_serial_purepython(maxiter, zs, cs):\n",
    "    output = [0] * len(zs)\n",
    "    for i in range(len(zs)):\n",
    "        n = 0\n",
    "        z = zs[i]\n",
    "        c = cs[i]\n",
    "        while abs(z) < 2 and n < maxiter:\n",
    "            z = z * z + c\n",
    "            n += 1\n",
    "        output[i] = n\n",
    "    return output\n"
   ]
  },
  {
   "cell_type": "code",
   "execution_count": 9,
   "metadata": {},
   "outputs": [
    {
     "name": "stdout",
     "output_type": "stream",
     "text": [
      "Length of x: 1000\n",
      "Total elements: 1000000\n",
      "calculate_z_serial_purepythontook 5.3745200634002686 seconds\n"
     ]
    }
   ],
   "source": [
    "#2-4\n",
    "if __name__ == \"__main__\":\n",
    "    calc_pure_python(desired_width=1000, max_iterations=300)"
   ]
  },
  {
   "cell_type": "markdown",
   "metadata": {},
   "source": [
    "### Representation for False Gray and Pure Grayscale"
   ]
  },
  {
   "cell_type": "code",
   "execution_count": 10,
   "metadata": {},
   "outputs": [],
   "source": [
    "import time\n",
    "from PIL import Image\n",
    "import array"
   ]
  },
  {
   "cell_type": "code",
   "execution_count": 11,
   "metadata": {},
   "outputs": [],
   "source": [
    "def show_false_greyscale(output_raw, width, height, max_iterations):\n",
    "    \"\"\"Convert list to array, show using PIL\"\"\"\n",
    "    # convert our output to PIL-compatible input\n",
    "    assert width * height == len(output_raw)  \n",
    "    max_value = float(max(output_raw))\n",
    "    output_raw_limited = [int(float(o) / max_value * 255) for o in output_raw]\n",
    "    output_rgb = ((o + (256 * o) + (256 ** 2) * o) * 16 for o in output_raw_limited)\n",
    "    output_rgb = array.array('I', output_rgb) \n",
    "    # display with PIL/pillow\n",
    "    im = Image.new(\"RGB\", (width, height))\n",
    "    \n",
    "    im.frombytes(output_rgb.tobytes(), \"raw\", \"RGBX\", 0, -1)\n",
    "    im.show()"
   ]
  },
  {
   "cell_type": "code",
   "execution_count": 12,
   "metadata": {},
   "outputs": [],
   "source": [
    "def show_greyscale(output_raw, width, height, max_iterations):\n",
    "    \"\"\"Convert list to array, show using PIL\"\"\"\n",
    "    # convert our output to PIL-compatible input\n",
    "    max_iterations = float(max(output_raw))\n",
    "    print(max_iterations)\n",
    "    scale_factor = float(max_iterations)\n",
    "    scaled = [int(o / scale_factor * 255) for o in output_raw]\n",
    "    output = array.array('B', scaled)  \n",
    "    # display with PIL\n",
    "    im = Image.new(\"L\", (width, width))\n",
    "    \n",
    "    im.frombytes(output.tobytes(), \"raw\", \"L\", 0, -1)\n",
    "    im.show()"
   ]
  },
  {
   "cell_type": "code",
   "execution_count": 13,
   "metadata": {},
   "outputs": [],
   "source": [
    "def calc_pure_python(draw_output, desired_width, max_iterations):\n",
    "    \"\"\"Create a list of complex co-ordinates (zs) and complex parameters (cs), build Julia set and display\"\"\"\n",
    "    x_step = (x2 - x1) / desired_width\n",
    "    y_step = (y1 - y2) / desired_width\n",
    "    x = []\n",
    "    y = []\n",
    "    ycoord = y2\n",
    "    while ycoord > y1:\n",
    "        y.append(ycoord)\n",
    "        ycoord += y_step\n",
    "    xcoord = x1\n",
    "    while xcoord < x2:\n",
    "        x.append(xcoord)\n",
    "        xcoord += x_step\n",
    "    # set width and height to the generated pixel counts, rather than the\n",
    "    # pre-rounding desired width and height\n",
    "    width = len(x)\n",
    "    height = len(y)\n",
    "    # build a list of co-ordinates and the initial condition for each cell.\n",
    "    # Note that our initial condition is a constant and could easily be removed,\n",
    "    # we use it to simulate a real-world scenario with several inputs to our function\n",
    "    zs = []\n",
    "    cs = []\n",
    "    for ycoord in y:\n",
    "        for xcoord in x:\n",
    "            zs.append(complex(xcoord, ycoord))\n",
    "            cs.append(complex(c_real, c_imag))\n",
    "\n",
    "    print(\"Length of x:\", len(x))\n",
    "    print(\"Total elements:\", len(zs))\n",
    "    start_time = time.time()\n",
    "    output = calculate_z_serial_purepython(max_iterations, zs, cs)\n",
    "    end_time = time.time()\n",
    "    secs = end_time - start_time\n",
    "    print(calculate_z_serial_purepython.__name__ + \" took\", secs, \"seconds\")\n",
    "\n",
    "    assert sum(output) == 33219980  # this sum is expected for 1000^2 grid with 300 iterations\n",
    "\n",
    "    if draw_output:\n",
    "        show_greyscale(output, width, height, max_iterations)"
   ]
  },
  {
   "cell_type": "code",
   "execution_count": 14,
   "metadata": {},
   "outputs": [
    {
     "name": "stdout",
     "output_type": "stream",
     "text": [
      "Length of x: 1000\n",
      "Total elements: 1000000\n",
      "calculate_z_serial_purepython took 5.177051544189453 seconds\n",
      "300.0\n"
     ]
    }
   ],
   "source": [
    "if __name__ == \"__main__\":\n",
    "    # Calculate the Julia set using a pure Python solution with\n",
    "    # reasonable defaults for a laptop\n",
    "    # set draw_output to True to use PIL to draw an image\n",
    "    calc_pure_python(draw_output=True, desired_width=1000, max_iterations=300)"
   ]
  },
  {
   "cell_type": "markdown",
   "metadata": {},
   "source": [
    "2.- Define a new function, timefn, which takes a function as an argument: the inner \n",
    "function, measure_time, takes *args (a variable number of positional arguments) \n",
    "and **kwargs (a variable number of key/value arguments) and passes them through \n",
    "to fn for execution. Decorate calculate_z_serial_purepython with @timefn to profile \n",
    "it. Implement Example 2-5 and adapt your current source code. "
   ]
  },
  {
   "cell_type": "code",
   "execution_count": 15,
   "metadata": {},
   "outputs": [],
   "source": [
    "from functools import wraps\n",
    "def timefn(fn):\n",
    "    @wraps(fn)\n",
    "    def measure_time(*args, **kwargs):\n",
    "        t1 = time.time()\n",
    "        result = fn(*args, **kwargs)\n",
    "        t2 = time.time()\n",
    "        print(\"@timefn:\" + fn.__name__ + \" took \" + str(t2 - t1) + \" seconds\")\n",
    "        return result\n",
    "    return measure_time\n"
   ]
  },
  {
   "cell_type": "code",
   "execution_count": 17,
   "metadata": {},
   "outputs": [],
   "source": [
    "@timefn\n",
    "def calculate_z_serial_purepython(maxiter, zs, cs):\n",
    "    output = [0] * len(zs)\n",
    "    for i in range(len(zs)):\n",
    "        n = 0\n",
    "        z = zs[i]\n",
    "        c = cs[i]\n",
    "        while abs(z) < 2 and n < maxiter:\n",
    "            z = z * z + c\n",
    "            n += 1\n",
    "        output[i] = n\n",
    "    return output"
   ]
  },
  {
   "cell_type": "code",
   "execution_count": 19,
   "metadata": {},
   "outputs": [
    {
     "name": "stdout",
     "output_type": "stream",
     "text": [
      "Length of x: 1000\n",
      "Total elements: 1000000\n",
      "@timefn:calculate_z_serial_purepython took 5.191513776779175 seconds\n",
      "calculate_z_serial_purepython took 5.192037343978882 seconds\n"
     ]
    }
   ],
   "source": [
    "calc_pure_python(draw_output=False, desired_width=1000, max_iterations=300)"
   ]
  },
  {
   "cell_type": "markdown",
   "metadata": {},
   "source": [
    "3.- Use the timeit modeule to get a coarse measurement of the execution speed of the \n",
    "CPU-bound function. Runs 10 loops with 5 repetitions. Show how to do the \n",
    "measurement on the command line and on a Jupyter Notebook. "
   ]
  },
  {
   "cell_type": "code",
   "execution_count": 24,
   "metadata": {},
   "outputs": [
    {
     "name": "stdout",
     "output_type": "stream",
     "text": [
      "Length of x: 1000\n",
      "Total elements: 1000000\n",
      "@timefn:calculate_z_serial_purepython took 5.240819931030273 seconds\n",
      "calculate_z_serial_purepython took 5.2409467697143555 seconds\n",
      "Length of x: 1000\n",
      "Total elements: 1000000\n",
      "@timefn:calculate_z_serial_purepython took 5.269282341003418 seconds\n",
      "calculate_z_serial_purepython took 5.269427061080933 seconds\n",
      "Length of x: 1000\n",
      "Total elements: 1000000\n",
      "@timefn:calculate_z_serial_purepython took 5.164397478103638 seconds\n",
      "calculate_z_serial_purepython took 5.164538383483887 seconds\n",
      "Length of x: 1000\n",
      "Total elements: 1000000\n",
      "@timefn:calculate_z_serial_purepython took 5.23262357711792 seconds\n",
      "calculate_z_serial_purepython took 5.23275351524353 seconds\n",
      "Length of x: 1000\n",
      "Total elements: 1000000\n",
      "@timefn:calculate_z_serial_purepython took 5.479423522949219 seconds\n",
      "calculate_z_serial_purepython took 5.479592323303223 seconds\n",
      "Length of x: 1000\n",
      "Total elements: 1000000\n",
      "@timefn:calculate_z_serial_purepython took 5.226547002792358 seconds\n",
      "calculate_z_serial_purepython took 5.2266809940338135 seconds\n",
      "Length of x: 1000\n",
      "Total elements: 1000000\n",
      "@timefn:calculate_z_serial_purepython took 5.170924425125122 seconds\n",
      "calculate_z_serial_purepython took 5.17110013961792 seconds\n",
      "Length of x: 1000\n",
      "Total elements: 1000000\n",
      "@timefn:calculate_z_serial_purepython took 6.264492511749268 seconds\n",
      "calculate_z_serial_purepython took 6.264631748199463 seconds\n",
      "Length of x: 1000\n",
      "Total elements: 1000000\n",
      "@timefn:calculate_z_serial_purepython took 5.1297361850738525 seconds\n",
      "calculate_z_serial_purepython took 5.129882574081421 seconds\n",
      "Length of x: 1000\n",
      "Total elements: 1000000\n",
      "@timefn:calculate_z_serial_purepython took 5.17873215675354 seconds\n",
      "calculate_z_serial_purepython took 5.179370164871216 seconds\n",
      "Length of x: 1000\n",
      "Total elements: 1000000\n",
      "@timefn:calculate_z_serial_purepython took 5.107524633407593 seconds\n",
      "calculate_z_serial_purepython took 5.1076648235321045 seconds\n",
      "Length of x: 1000\n",
      "Total elements: 1000000\n",
      "@timefn:calculate_z_serial_purepython took 5.08745265007019 seconds\n",
      "calculate_z_serial_purepython took 5.087960481643677 seconds\n",
      "Length of x: 1000\n",
      "Total elements: 1000000\n",
      "@timefn:calculate_z_serial_purepython took 5.180060386657715 seconds\n",
      "calculate_z_serial_purepython took 5.180253267288208 seconds\n",
      "Length of x: 1000\n",
      "Total elements: 1000000\n",
      "@timefn:calculate_z_serial_purepython took 5.014886140823364 seconds\n",
      "calculate_z_serial_purepython took 5.015096426010132 seconds\n",
      "Length of x: 1000\n",
      "Total elements: 1000000\n",
      "@timefn:calculate_z_serial_purepython took 5.174846887588501 seconds\n",
      "calculate_z_serial_purepython took 5.175013780593872 seconds\n",
      "Length of x: 1000\n",
      "Total elements: 1000000\n",
      "@timefn:calculate_z_serial_purepython took 5.2777931690216064 seconds\n",
      "calculate_z_serial_purepython took 5.277934551239014 seconds\n",
      "Length of x: 1000\n",
      "Total elements: 1000000\n",
      "@timefn:calculate_z_serial_purepython took 5.133440256118774 seconds\n",
      "calculate_z_serial_purepython took 5.133745193481445 seconds\n",
      "Length of x: 1000\n",
      "Total elements: 1000000\n",
      "@timefn:calculate_z_serial_purepython took 5.385258436203003 seconds\n",
      "calculate_z_serial_purepython took 5.3853888511657715 seconds\n",
      "Length of x: 1000\n",
      "Total elements: 1000000\n",
      "@timefn:calculate_z_serial_purepython took 5.268688678741455 seconds\n",
      "calculate_z_serial_purepython took 5.268852710723877 seconds\n",
      "Length of x: 1000\n",
      "Total elements: 1000000\n",
      "@timefn:calculate_z_serial_purepython took 5.373864650726318 seconds\n",
      "calculate_z_serial_purepython took 5.374207496643066 seconds\n",
      "Length of x: 1000\n",
      "Total elements: 1000000\n",
      "@timefn:calculate_z_serial_purepython took 5.215594053268433 seconds\n",
      "calculate_z_serial_purepython took 5.215730667114258 seconds\n",
      "Length of x: 1000\n",
      "Total elements: 1000000\n",
      "@timefn:calculate_z_serial_purepython took 5.3184263706207275 seconds\n",
      "calculate_z_serial_purepython took 5.31897497177124 seconds\n",
      "Length of x: 1000\n",
      "Total elements: 1000000\n",
      "@timefn:calculate_z_serial_purepython took 5.053551197052002 seconds\n",
      "calculate_z_serial_purepython took 5.0537309646606445 seconds\n",
      "Length of x: 1000\n",
      "Total elements: 1000000\n",
      "@timefn:calculate_z_serial_purepython took 5.197821140289307 seconds\n",
      "calculate_z_serial_purepython took 5.198876857757568 seconds\n",
      "Length of x: 1000\n",
      "Total elements: 1000000\n",
      "@timefn:calculate_z_serial_purepython took 5.216740369796753 seconds\n",
      "calculate_z_serial_purepython took 5.216872930526733 seconds\n",
      "Length of x: 1000\n",
      "Total elements: 1000000\n",
      "@timefn:calculate_z_serial_purepython took 5.018106937408447 seconds\n",
      "calculate_z_serial_purepython took 5.018635272979736 seconds\n",
      "Length of x: 1000\n",
      "Total elements: 1000000\n",
      "@timefn:calculate_z_serial_purepython took 4.922083854675293 seconds\n",
      "calculate_z_serial_purepython took 4.9222424030303955 seconds\n",
      "Length of x: 1000\n",
      "Total elements: 1000000\n",
      "@timefn:calculate_z_serial_purepython took 4.955398797988892 seconds\n",
      "calculate_z_serial_purepython took 4.955548524856567 seconds\n",
      "Length of x: 1000\n",
      "Total elements: 1000000\n",
      "@timefn:calculate_z_serial_purepython took 5.06946873664856 seconds\n",
      "calculate_z_serial_purepython took 5.069673538208008 seconds\n",
      "Length of x: 1000\n",
      "Total elements: 1000000\n",
      "@timefn:calculate_z_serial_purepython took 5.054399013519287 seconds\n",
      "calculate_z_serial_purepython took 5.054534912109375 seconds\n",
      "Length of x: 1000\n",
      "Total elements: 1000000\n",
      "@timefn:calculate_z_serial_purepython took 4.931101083755493 seconds\n",
      "calculate_z_serial_purepython took 4.9312427043914795 seconds\n",
      "Length of x: 1000\n",
      "Total elements: 1000000\n",
      "@timefn:calculate_z_serial_purepython took 5.075665712356567 seconds\n",
      "calculate_z_serial_purepython took 5.075788974761963 seconds\n",
      "Length of x: 1000\n",
      "Total elements: 1000000\n",
      "@timefn:calculate_z_serial_purepython took 5.079594850540161 seconds\n",
      "calculate_z_serial_purepython took 5.079740762710571 seconds\n",
      "Length of x: 1000\n",
      "Total elements: 1000000\n",
      "@timefn:calculate_z_serial_purepython took 5.073427200317383 seconds\n",
      "calculate_z_serial_purepython took 5.073552370071411 seconds\n",
      "Length of x: 1000\n",
      "Total elements: 1000000\n",
      "@timefn:calculate_z_serial_purepython took 5.1016974449157715 seconds\n",
      "calculate_z_serial_purepython took 5.101844787597656 seconds\n",
      "Length of x: 1000\n",
      "Total elements: 1000000\n",
      "@timefn:calculate_z_serial_purepython took 5.194362640380859 seconds\n",
      "calculate_z_serial_purepython took 5.194543361663818 seconds\n",
      "Length of x: 1000\n",
      "Total elements: 1000000\n",
      "@timefn:calculate_z_serial_purepython took 5.074132680892944 seconds\n",
      "calculate_z_serial_purepython took 5.074303865432739 seconds\n",
      "Length of x: 1000\n",
      "Total elements: 1000000\n",
      "@timefn:calculate_z_serial_purepython took 5.171473979949951 seconds\n",
      "calculate_z_serial_purepython took 5.171605825424194 seconds\n",
      "Length of x: 1000\n",
      "Total elements: 1000000\n",
      "@timefn:calculate_z_serial_purepython took 5.01425838470459 seconds\n",
      "calculate_z_serial_purepython took 5.014543056488037 seconds\n",
      "Length of x: 1000\n",
      "Total elements: 1000000\n",
      "@timefn:calculate_z_serial_purepython took 4.895913124084473 seconds\n",
      "calculate_z_serial_purepython took 4.896129608154297 seconds\n",
      "Length of x: 1000\n",
      "Total elements: 1000000\n",
      "@timefn:calculate_z_serial_purepython took 4.883526563644409 seconds\n",
      "calculate_z_serial_purepython took 4.884101390838623 seconds\n",
      "Length of x: 1000\n",
      "Total elements: 1000000\n",
      "@timefn:calculate_z_serial_purepython took 4.968118190765381 seconds\n",
      "calculate_z_serial_purepython took 4.9688684940338135 seconds\n",
      "Length of x: 1000\n",
      "Total elements: 1000000\n",
      "@timefn:calculate_z_serial_purepython took 4.98250675201416 seconds\n",
      "calculate_z_serial_purepython took 4.982640504837036 seconds\n",
      "Length of x: 1000\n",
      "Total elements: 1000000\n",
      "@timefn:calculate_z_serial_purepython took 4.954655170440674 seconds\n",
      "calculate_z_serial_purepython took 4.954806804656982 seconds\n",
      "Length of x: 1000\n",
      "Total elements: 1000000\n",
      "@timefn:calculate_z_serial_purepython took 4.991980075836182 seconds\n",
      "calculate_z_serial_purepython took 4.992120265960693 seconds\n",
      "Length of x: 1000\n",
      "Total elements: 1000000\n",
      "@timefn:calculate_z_serial_purepython took 5.1479575634002686 seconds\n",
      "calculate_z_serial_purepython took 5.1480982303619385 seconds\n",
      "Length of x: 1000\n",
      "Total elements: 1000000\n",
      "@timefn:calculate_z_serial_purepython took 5.078381538391113 seconds\n",
      "calculate_z_serial_purepython took 5.078529596328735 seconds\n",
      "Length of x: 1000\n",
      "Total elements: 1000000\n",
      "@timefn:calculate_z_serial_purepython took 5.006260633468628 seconds\n",
      "calculate_z_serial_purepython took 5.006395578384399 seconds\n",
      "Length of x: 1000\n",
      "Total elements: 1000000\n",
      "@timefn:calculate_z_serial_purepython took 4.933383464813232 seconds\n",
      "calculate_z_serial_purepython took 4.933581590652466 seconds\n",
      "Length of x: 1000\n",
      "Total elements: 1000000\n",
      "@timefn:calculate_z_serial_purepython took 4.920761346817017 seconds\n",
      "calculate_z_serial_purepython took 4.920903205871582 seconds\n",
      "5.56 s ± 135 ms per loop (mean ± std. dev. of 5 runs, 10 loops each)\n"
     ]
    }
   ],
   "source": [
    "%timeit -r 5 -n 10 calc_pure_python(draw_output=False,desired_width=1000, max_iterations=300)"
   ]
  },
  {
   "cell_type": "markdown",
   "metadata": {},
   "source": [
    "4.- Use the cProfile module to profile the source code (.py). Sort the results by the time \n",
    "spent inside each function. This will give a view into the slowest parts. Analyze the \n",
    "output and make a syntesis of the findings. Show how to use the cProfile module on \n",
    "the command line and on a Jupyter Notebook. "
   ]
  },
  {
   "cell_type": "code",
   "execution_count": 23,
   "metadata": {},
   "outputs": [],
   "source": [
    "import cProfile\n",
    "import pstats"
   ]
  },
  {
   "cell_type": "code",
   "execution_count": 25,
   "metadata": {},
   "outputs": [
    {
     "name": "stdout",
     "output_type": "stream",
     "text": [
      "Length of x: 1000\n",
      "Total elements: 1000000\n",
      "@timefn:calculate_z_serial_purepython took 7.8562846183776855 seconds\n",
      "calculate_z_serial_purepython took 7.856455564498901 seconds\n"
     ]
    }
   ],
   "source": [
    "profiler = cProfile.Profile()\n",
    "profiler.enable()\n",
    "calc_pure_python(draw_output=False, desired_width=1000, max_iterations=300)\n",
    "profiler.disable()"
   ]
  },
  {
   "cell_type": "code",
   "execution_count": 26,
   "metadata": {},
   "outputs": [
    {
     "name": "stdout",
     "output_type": "stream",
     "text": [
      "         36222268 function calls in 8.597 seconds\n",
      "\n",
      "   Ordered by: cumulative time\n",
      "\n",
      "   ncalls  tottime  percall  cumtime  percall filename:lineno(function)\n",
      "        2    0.000    0.000    8.597    4.298 /home/samantha/.local/lib/python3.6/site-packages/IPython/core/interactiveshell.py:3302(run_code)\n",
      "        2    0.000    0.000    8.596    4.298 {built-in method builtins.exec}\n",
      "        1    0.036    0.036    8.596    8.596 <ipython-input-25-a151f6932651>:3(<module>)\n",
      "        1    0.545    0.545    8.561    8.561 <ipython-input-13-b8e84de4a7ff>:1(calc_pure_python)\n",
      "        1    0.000    0.000    7.856    7.856 <ipython-input-15-722e9f04643c>:3(measure_time)\n",
      "        1    5.902    5.902    7.856    7.856 <ipython-input-17-57ebe2720ed6>:1(calculate_z_serial_purepython)\n",
      " 34219980    1.954    0.000    1.954    0.000 {built-in method builtins.abs}\n",
      "  2002000    0.150    0.000    0.150    0.000 {method 'append' of 'list' objects}\n",
      "        1    0.005    0.005    0.005    0.005 {built-in method builtins.sum}\n",
      "        4    0.000    0.000    0.004    0.001 {built-in method builtins.print}\n",
      "       16    0.000    0.000    0.004    0.000 /home/samantha/.local/lib/python3.6/site-packages/ipykernel/iostream.py:384(write)\n",
      "       18    0.000    0.000    0.004    0.000 /home/samantha/.local/lib/python3.6/site-packages/ipykernel/iostream.py:195(schedule)\n",
      "       18    0.004    0.000    0.004    0.000 /home/samantha/.local/lib/python3.6/site-packages/zmq/sugar/socket.py:543(send)\n",
      "       18    0.000    0.000    0.000    0.000 /usr/lib/python3.6/threading.py:1104(is_alive)\n",
      "       16    0.000    0.000    0.000    0.000 /home/samantha/.local/lib/python3.6/site-packages/ipykernel/iostream.py:321(_schedule_flush)\n",
      "        2    0.000    0.000    0.000    0.000 /usr/lib/python3.6/codeop.py:132(__call__)\n",
      "        2    0.000    0.000    0.000    0.000 {built-in method builtins.compile}\n",
      "       18    0.000    0.000    0.000    0.000 /usr/lib/python3.6/threading.py:1062(_wait_for_tstate_lock)\n",
      "       16    0.000    0.000    0.000    0.000 /home/samantha/.local/lib/python3.6/site-packages/ipykernel/iostream.py:308(_is_master_process)\n",
      "       18    0.000    0.000    0.000    0.000 {method 'acquire' of '_thread.lock' objects}\n",
      "       18    0.000    0.000    0.000    0.000 /home/samantha/.local/lib/python3.6/site-packages/ipykernel/iostream.py:91(_event_pipe)\n",
      "       16    0.000    0.000    0.000    0.000 {built-in method posix.getpid}\n",
      "        2    0.000    0.000    0.000    0.000 /usr/lib/python3.6/contextlib.py:157(helper)\n",
      "        2    0.000    0.000    0.000    0.000 /usr/lib/python3.6/contextlib.py:59(__init__)\n",
      "       16    0.000    0.000    0.000    0.000 {built-in method builtins.isinstance}\n",
      "        1    0.000    0.000    0.000    0.000 <ipython-input-25-a151f6932651>:4(<module>)\n",
      "        4    0.000    0.000    0.000    0.000 {built-in method builtins.getattr}\n",
      "        4    0.000    0.000    0.000    0.000 {built-in method builtins.next}\n",
      "        2    0.000    0.000    0.000    0.000 /home/samantha/.local/lib/python3.6/site-packages/IPython/core/hooks.py:103(__call__)\n",
      "        2    0.000    0.000    0.000    0.000 /home/samantha/.local/lib/python3.6/site-packages/traitlets/traitlets.py:545(__get__)\n",
      "        2    0.000    0.000    0.000    0.000 /usr/lib/python3.6/contextlib.py:85(__exit__)\n",
      "        2    0.000    0.000    0.000    0.000 /usr/lib/python3.6/contextlib.py:79(__enter__)\n",
      "       18    0.000    0.000    0.000    0.000 /usr/lib/python3.6/threading.py:506(is_set)\n",
      "        6    0.000    0.000    0.000    0.000 {built-in method builtins.len}\n",
      "        1    0.000    0.000    0.000    0.000 /home/samantha/.local/lib/python3.6/site-packages/IPython/core/interactiveshell.py:117(<lambda>)\n",
      "        2    0.000    0.000    0.000    0.000 /home/samantha/.local/lib/python3.6/site-packages/IPython/utils/ipstruct.py:125(__getattr__)\n",
      "        4    0.000    0.000    0.000    0.000 /home/samantha/.local/lib/python3.6/site-packages/IPython/core/compilerop.py:138(extra_flags)\n",
      "        4    0.000    0.000    0.000    0.000 {built-in method time.time}\n",
      "       18    0.000    0.000    0.000    0.000 {method 'append' of 'collections.deque' objects}\n",
      "        2    0.000    0.000    0.000    0.000 /home/samantha/.local/lib/python3.6/site-packages/IPython/core/interactiveshell.py:1276(user_global_ns)\n",
      "        2    0.000    0.000    0.000    0.000 /home/samantha/.local/lib/python3.6/site-packages/traitlets/traitlets.py:526(get)\n",
      "        1    0.000    0.000    0.000    0.000 {method 'disable' of '_lsprof.Profiler' objects}\n",
      "        2    0.000    0.000    0.000    0.000 /home/samantha/.local/lib/python3.6/site-packages/IPython/core/hooks.py:168(pre_run_code_hook)\n",
      "        2    0.000    0.000    0.000    0.000 /home/samantha/.local/lib/python3.6/site-packages/IPython/core/interactiveshell.py:3244(compare)\n",
      "\n",
      "\n"
     ]
    },
    {
     "data": {
      "text/plain": [
       "<pstats.Stats at 0x7fa0242bfeb8>"
      ]
     },
     "execution_count": 26,
     "metadata": {},
     "output_type": "execute_result"
    }
   ],
   "source": [
    "stats = pstats.Stats(profiler).sort_stats('cumulative')\n",
    "stats.print_stats()"
   ]
  },
  {
   "cell_type": "markdown",
   "metadata": {},
   "source": [
    "5.- Use snakeviz to get a high-level understanding of the cPrifile statistics file. Analyze \n",
    "the output and make a syntesis of the findings. "
   ]
  },
  {
   "cell_type": "code",
   "execution_count": 27,
   "metadata": {},
   "outputs": [
    {
     "name": "stdout",
     "output_type": "stream",
     "text": [
      "Length of x: 1000\n",
      "Total elements: 1000000\n",
      "@timefn:calculate_z_serial_purepython took 7.893105506896973 seconds\n",
      "calculate_z_serial_purepython took 7.893787145614624 seconds\n",
      "snakeviz web server started on 127.0.0.1:8080; enter Ctrl-C to exit\n",
      "http://127.0.0.1:8080/snakeviz/%2Fmnt%2Fc%2FUsers%2Fs_cas%2FOneDrive%2FDocumentos%2FUPY%2FCuatri%207%2Fhpc%2FCA3%2F1%2Fstats\n",
      "\u001b[6n"
     ]
    }
   ],
   "source": [
    "%reload_ext snakeviz\n",
    "\n",
    "if __name__ == \"__main__\":\n",
    "    cProfile.run('calc_pure_python(draw_output=False, desired_width=1000, max_iterations=300)', 'stats')\n",
    "!snakeviz \"stats\""
   ]
  },
  {
   "cell_type": "markdown",
   "metadata": {},
   "source": [
    "6.- Use the line_profiler and kernprof file to profile line-by-line the function \n",
    "calculate_z_serial_purepython. Analyze the output and make a syntesis of the \n",
    "findings. "
   ]
  },
  {
   "cell_type": "code",
   "execution_count": 30,
   "metadata": {},
   "outputs": [
    {
     "name": "stderr",
     "output_type": "stream",
     "text": [
      "/home/samantha/.local/lib/python3.6/site-packages/line_profiler/ipython_extension.py:97: UserWarning: Adding a function with a __wrapped__ attribute. You may want to profile the wrapped function by adding calculate_z_serial_purepython.__wrapped__ instead.\n",
      "  profile = LineProfiler(*funcs)\n"
     ]
    },
    {
     "name": "stdout",
     "output_type": "stream",
     "text": [
      "Length of x: 1000\n",
      "Total elements: 1000000\n",
      "@timefn:calculate_z_serial_purepython took 12.422465801239014 seconds\n",
      "calculate_z_serial_purepython took 12.42318844795227 seconds\n"
     ]
    },
    {
     "name": "stdout",
     "output_type": "stream",
     "text": [
      "Timer unit: 1e-09 s\n",
      "\n",
      "Total time: 12.4227 s\n",
      "File: <ipython-input-15-722e9f04643c>\n",
      "Function: measure_time at line 3\n",
      "\n",
      "Line #      Hits         Time  Per Hit   % Time  Line Contents\n",
      "==============================================================\n",
      "     3                                               @wraps(fn)\n",
      "     4                                               def measure_time(*args, **kwargs):\n",
      "     5         1       3300.0   3300.0      0.0          t1 = time.time()\n",
      "     6         1        1e+10    1e+10    100.0          result = fn(*args, **kwargs)\n",
      "     7         1      18900.0  18900.0      0.0          t2 = time.time()\n",
      "     8         1     250600.0 250600.0      0.0          print(\"@timefn:\" + fn.__name__ + \" took \" + str(t2 - t1) + \" seconds\")\n",
      "     9         1        200.0    200.0      0.0          return result"
     ]
    }
   ],
   "source": [
    "%load_ext line_profiler\n",
    "%lprun -f calculate_z_serial_purepython calc_pure_python(draw_output=False, desired_width=1000, max_iterations=300)"
   ]
  },
  {
   "cell_type": "markdown",
   "metadata": {},
   "source": [
    "7.- Use the memory_profiler to diagnose memory usage. Analyze the output and make \n",
    "a syntesis of the findings. "
   ]
  },
  {
   "cell_type": "code",
   "execution_count": 36,
   "metadata": {},
   "outputs": [
    {
     "name": "stdout",
     "output_type": "stream",
     "text": [
      "Length of x: 1000\n",
      "Total elements: 1000000\n",
      "@timefn:calculate_z_serial_purepython took 5.769466876983643 seconds\n",
      "calculate_z_serial_purepython took 5.770303010940552 seconds\n",
      "peak memory: 179.38 MiB, increment: 80.73 MiB\n"
     ]
    }
   ],
   "source": [
    "%reload_ext memory_profiler\n",
    "%memit calc_pure_python(draw_output=False, desired_width=1000, max_iterations=300)"
   ]
  }
 ],
 "metadata": {
  "kernelspec": {
   "display_name": "Python 3",
   "language": "python",
   "name": "python3"
  },
  "language_info": {
   "codemirror_mode": {
    "name": "ipython",
    "version": 3
   },
   "file_extension": ".py",
   "mimetype": "text/x-python",
   "name": "python",
   "nbconvert_exporter": "python",
   "pygments_lexer": "ipython3",
   "version": "3.6.9"
  }
 },
 "nbformat": 4,
 "nbformat_minor": 2
}
